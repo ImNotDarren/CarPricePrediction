{
 "cells": [
  {
   "cell_type": "markdown",
   "id": "cf8029bf",
   "metadata": {},
   "source": [
    "# Car Price Prediction"
   ]
  },
  {
   "cell_type": "code",
   "execution_count": 283,
   "id": "d1355fa9",
   "metadata": {},
   "outputs": [],
   "source": [
    "import statsmodels.api as sm\n",
    "import pandas as pd\n",
    "import matplotlib.pyplot as plt\n",
    "from matplotlib import colors\n",
    "from sklearn.linear_model import LinearRegression\n",
    "import seaborn as sns\n",
    "from bs4 import BeautifulSoup as bs\n",
    "import requests\n",
    "import re\n",
    "import time\n",
    "import numpy as np"
   ]
  },
  {
   "cell_type": "markdown",
   "id": "7cef58a9",
   "metadata": {},
   "source": [
    "## Getting scraped data from csv file"
   ]
  },
  {
   "cell_type": "code",
   "execution_count": 284,
   "id": "a97934cb",
   "metadata": {},
   "outputs": [],
   "source": [
    "df = pd.read_csv('car_info.csv', index_col=0)"
   ]
  },
  {
   "cell_type": "code",
   "execution_count": 285,
   "id": "7dfd3ae6",
   "metadata": {},
   "outputs": [
    {
     "data": {
      "text/html": [
       "<div>\n",
       "<style scoped>\n",
       "    .dataframe tbody tr th:only-of-type {\n",
       "        vertical-align: middle;\n",
       "    }\n",
       "\n",
       "    .dataframe tbody tr th {\n",
       "        vertical-align: top;\n",
       "    }\n",
       "\n",
       "    .dataframe thead th {\n",
       "        text-align: right;\n",
       "    }\n",
       "</style>\n",
       "<table border=\"1\" class=\"dataframe\">\n",
       "  <thead>\n",
       "    <tr style=\"text-align: right;\">\n",
       "      <th></th>\n",
       "      <th>index</th>\n",
       "      <th>name</th>\n",
       "      <th>price</th>\n",
       "      <th>mileage</th>\n",
       "      <th>ex_color</th>\n",
       "      <th>in_color</th>\n",
       "      <th>drivetrain</th>\n",
       "      <th>mpg</th>\n",
       "      <th>fuel_type</th>\n",
       "      <th>transmission</th>\n",
       "      <th>engine</th>\n",
       "    </tr>\n",
       "  </thead>\n",
       "  <tbody>\n",
       "    <tr>\n",
       "      <th>0</th>\n",
       "      <td>0</td>\n",
       "      <td>2019 Honda Accord Sport</td>\n",
       "      <td>27995.0</td>\n",
       "      <td>27995.0</td>\n",
       "      <td>White</td>\n",
       "      <td>Red</td>\n",
       "      <td>Front-wheel Drive</td>\n",
       "      <td>29–35</td>\n",
       "      <td>Gasoline</td>\n",
       "      <td>Automatic CVT</td>\n",
       "      <td>1.5L I4 16V GDI DOHC Turbo</td>\n",
       "    </tr>\n",
       "    <tr>\n",
       "      <th>1</th>\n",
       "      <td>1</td>\n",
       "      <td>2018 Porsche Macan</td>\n",
       "      <td>41998.0</td>\n",
       "      <td>41998.0</td>\n",
       "      <td>Gray</td>\n",
       "      <td>Black</td>\n",
       "      <td>All-wheel Drive</td>\n",
       "      <td>20–25</td>\n",
       "      <td>Gasoline</td>\n",
       "      <td>7-Speed Automatic with Auto-Shift</td>\n",
       "      <td>2.0L I4 16V GDI DOHC Turbo</td>\n",
       "    </tr>\n",
       "    <tr>\n",
       "      <th>2</th>\n",
       "      <td>2</td>\n",
       "      <td>2015 Chevrolet Corvette Stingray Z51</td>\n",
       "      <td>52000.0</td>\n",
       "      <td>52000.0</td>\n",
       "      <td>Velocity Yellow Tinted Clearcoat</td>\n",
       "      <td>Black</td>\n",
       "      <td>Rear-wheel Drive</td>\n",
       "      <td>17–29</td>\n",
       "      <td>Gasoline</td>\n",
       "      <td>8-Speed Automatic</td>\n",
       "      <td>6.2L V8 16V GDI OHV</td>\n",
       "    </tr>\n",
       "    <tr>\n",
       "      <th>3</th>\n",
       "      <td>3</td>\n",
       "      <td>2020 Jeep Grand Cherokee Overland</td>\n",
       "      <td>41998.0</td>\n",
       "      <td>41998.0</td>\n",
       "      <td>Ivory</td>\n",
       "      <td>Sepia / Black</td>\n",
       "      <td>Four-wheel Drive</td>\n",
       "      <td>18–25</td>\n",
       "      <td>Gasoline</td>\n",
       "      <td>8-Speed Automatic</td>\n",
       "      <td>3.6L V6 24V MPFI DOHC</td>\n",
       "    </tr>\n",
       "    <tr>\n",
       "      <th>4</th>\n",
       "      <td>4</td>\n",
       "      <td>2017 Ford Mustang GT Premium</td>\n",
       "      <td>29995.0</td>\n",
       "      <td>29995.0</td>\n",
       "      <td>Ingot Silver Metallic</td>\n",
       "      <td>Ebony w/Metal Gray Stitch</td>\n",
       "      <td>Rear-wheel Drive</td>\n",
       "      <td>15–25</td>\n",
       "      <td>Gasoline</td>\n",
       "      <td>Automatic</td>\n",
       "      <td>Engine: 5.0L Ti-VCT V8</td>\n",
       "    </tr>\n",
       "  </tbody>\n",
       "</table>\n",
       "</div>"
      ],
      "text/plain": [
       "   index                                  name    price  mileage  \\\n",
       "0      0               2019 Honda Accord Sport  27995.0  27995.0   \n",
       "1      1                   2018 Porsche Macan   41998.0  41998.0   \n",
       "2      2  2015 Chevrolet Corvette Stingray Z51  52000.0  52000.0   \n",
       "3      3     2020 Jeep Grand Cherokee Overland  41998.0  41998.0   \n",
       "4      4          2017 Ford Mustang GT Premium  29995.0  29995.0   \n",
       "\n",
       "                             ex_color                     in_color  \\\n",
       "0                              White                          Red    \n",
       "1                               Gray                        Black    \n",
       "2   Velocity Yellow Tinted Clearcoat                        Black    \n",
       "3                              Ivory                Sepia / Black    \n",
       "4              Ingot Silver Metallic    Ebony w/Metal Gray Stitch    \n",
       "\n",
       "            drivetrain    mpg  fuel_type                       transmission  \\\n",
       "0   Front-wheel Drive   29–35  Gasoline                       Automatic CVT   \n",
       "1     All-wheel Drive   20–25  Gasoline   7-Speed Automatic with Auto-Shift   \n",
       "2    Rear-wheel Drive   17–29  Gasoline                   8-Speed Automatic   \n",
       "3    Four-wheel Drive   18–25  Gasoline                   8-Speed Automatic   \n",
       "4    Rear-wheel Drive   15–25  Gasoline                           Automatic   \n",
       "\n",
       "                       engine  \n",
       "0  1.5L I4 16V GDI DOHC Turbo  \n",
       "1  2.0L I4 16V GDI DOHC Turbo  \n",
       "2         6.2L V8 16V GDI OHV  \n",
       "3       3.6L V6 24V MPFI DOHC  \n",
       "4      Engine: 5.0L Ti-VCT V8  "
      ]
     },
     "execution_count": 285,
     "metadata": {},
     "output_type": "execute_result"
    }
   ],
   "source": [
    "df.head()"
   ]
  },
  {
   "cell_type": "markdown",
   "id": "0e0bd67f",
   "metadata": {},
   "source": [
    "## Data cleaning"
   ]
  },
  {
   "cell_type": "markdown",
   "id": "24de520c",
   "metadata": {},
   "source": [
    "### Fuel type"
   ]
  },
  {
   "cell_type": "code",
   "execution_count": 286,
   "id": "dcbbc9de",
   "metadata": {},
   "outputs": [],
   "source": [
    "def is_gas(row):\n",
    "    regex1 = re.compile('.*Gas.*')\n",
    "    regex2 = re.compile('.*Flex.*')\n",
    "    if regex1.match(row.fuel_type) or \\\n",
    "    regex2.match(row.fuel_type) or \\\n",
    "    row.fuel_type == 'Hybrid ':\n",
    "        return 1\n",
    "    else:\n",
    "        return 0"
   ]
  },
  {
   "cell_type": "code",
   "execution_count": 287,
   "id": "3ef02e55",
   "metadata": {},
   "outputs": [],
   "source": [
    "def is_diesel(row):\n",
    "    regex1 = re.compile('Diesel.*')\n",
    "    regex2 = re.compile('.*Flex Fuel.*')\n",
    "    if regex1.match(row.fuel_type) or \\\n",
    "    regex2.match(row.fuel_type):\n",
    "        return 1\n",
    "    else:\n",
    "        return 0"
   ]
  },
  {
   "cell_type": "code",
   "execution_count": 288,
   "id": "cbf51e87",
   "metadata": {},
   "outputs": [],
   "source": [
    "def is_electric(row):\n",
    "    regex = re.compile('.*Electric.*')\n",
    "    if regex.match(row.fuel_type) or \\\n",
    "    row.fuel_type == 'Hybrid ':\n",
    "        return 1\n",
    "    else:\n",
    "        return 0"
   ]
  },
  {
   "cell_type": "code",
   "execution_count": 289,
   "id": "0fcae6fd",
   "metadata": {},
   "outputs": [],
   "source": [
    "df['is_gas'] = df.apply(lambda row : is_gas(row), axis=1)\n",
    "df['is_diesel'] = df.apply(lambda row : is_diesel(row), axis=1)\n",
    "df['is_electric'] = df.apply(lambda row : is_electric(row), axis=1)"
   ]
  },
  {
   "cell_type": "markdown",
   "id": "136e82bb",
   "metadata": {},
   "source": [
    "### Year"
   ]
  },
  {
   "cell_type": "code",
   "execution_count": 290,
   "id": "679094fd",
   "metadata": {},
   "outputs": [],
   "source": [
    "def get_year_make_module(row):\n",
    "    i = row['name']\n",
    "    w = i.split()\n",
    "    return w"
   ]
  },
  {
   "cell_type": "code",
   "execution_count": 291,
   "id": "1a72b169",
   "metadata": {},
   "outputs": [],
   "source": [
    "df['year'] = df.apply(lambda row : get_year_make_module(row)[0], axis=1)\n",
    "df['make'] = df.apply(lambda row : get_year_make_module(row)[1], axis=1)\n",
    "df['module'] = df.apply(lambda row : get_year_make_module(row)[2], axis=1)"
   ]
  },
  {
   "cell_type": "markdown",
   "id": "0ab4eae4",
   "metadata": {},
   "source": [
    "### MPG"
   ]
  },
  {
   "cell_type": "code",
   "execution_count": 292,
   "id": "b8da6188",
   "metadata": {},
   "outputs": [],
   "source": [
    "# drop rows with blank mpg\n",
    "df = df[df['mpg'] != '-']"
   ]
  },
  {
   "cell_type": "code",
   "execution_count": 293,
   "id": "a7541c4c",
   "metadata": {},
   "outputs": [],
   "source": [
    "def get_low_mpg(row):\n",
    "    return row.mpg[0:2]\n",
    "\n",
    "def get_high_mpg(row):\n",
    "    return row.mpg[3:5]"
   ]
  },
  {
   "cell_type": "code",
   "execution_count": 294,
   "id": "401af07e",
   "metadata": {},
   "outputs": [],
   "source": [
    "df['low_mpg'] = df.apply(lambda row : get_low_mpg(row), axis=1)\n",
    "df['high_mpg'] = df.apply(lambda row : get_high_mpg(row), axis=1)"
   ]
  },
  {
   "cell_type": "markdown",
   "id": "1ea14703",
   "metadata": {},
   "source": [
    "### Transmission"
   ]
  },
  {
   "cell_type": "code",
   "execution_count": 295,
   "id": "9bf72332",
   "metadata": {},
   "outputs": [],
   "source": [
    "def is_auto(row):\n",
    "    regex = re.compile('.*([A|a]uto|A/T|Dual Shift).*')\n",
    "    if regex.match(row.transmission):\n",
    "        return 1\n",
    "    else:\n",
    "        return 0\n",
    "\n",
    "def is_cvt(row):\n",
    "    regex = re.compile('.*(CVT|Variable).*')\n",
    "    if regex.match(row.transmission):\n",
    "        return 1\n",
    "    else:\n",
    "        return 0\n",
    "    \n",
    "def is_manual(row):\n",
    "    regex = re.compile('.*(Manual|M/T).*')\n",
    "    if regex.match(row.transmission):\n",
    "        return 1\n",
    "    else:\n",
    "        return 0\n",
    "    \n",
    "def get_speed(row):\n",
    "    tmp = row.transmission\n",
    "    tmp = re.sub('[^0-9]', '', tmp)\n",
    "    if tmp == '':\n",
    "        return 0\n",
    "    else:\n",
    "        return int(tmp)"
   ]
  },
  {
   "cell_type": "code",
   "execution_count": 296,
   "id": "1d55d7c8",
   "metadata": {},
   "outputs": [],
   "source": [
    "df['is_auto'] = df.apply(lambda row : is_auto(row), axis=1)\n",
    "df['is_cvt'] = df.apply(lambda row : is_cvt(row), axis=1)\n",
    "df['is_manual'] = df.apply(lambda row : is_manual(row), axis=1)\n",
    "df['speed'] = df.apply(lambda row : get_speed(row), axis=1)"
   ]
  },
  {
   "cell_type": "markdown",
   "id": "12043db7",
   "metadata": {},
   "source": [
    "### Engine"
   ]
  },
  {
   "cell_type": "code",
   "execution_count": 297,
   "id": "6bd440b6",
   "metadata": {},
   "outputs": [],
   "source": [
    "def get_L(row):\n",
    "    i = row.engine.find('L')\n",
    "    return row.engine[i-3:i]\n",
    "\n",
    "def get_V(row):\n",
    "    i = row.engine\n",
    "    a = re.compile('.*16V.*')\n",
    "    b = re.compile('.*24V.*')\n",
    "    c = re.compile('.*32V.*')\n",
    "    d = re.compile('.*48V.*')\n",
    "    e = re.compile('.*12V.*')\n",
    "    if a.match(i):\n",
    "        return 16\n",
    "    elif b.match(i):\n",
    "        return 24\n",
    "    elif c.match(i):\n",
    "        return 32\n",
    "    elif d.match(i):\n",
    "        return 48\n",
    "    elif e.match(i):\n",
    "        return 12\n",
    "    else:\n",
    "        return 0"
   ]
  },
  {
   "cell_type": "code",
   "execution_count": 298,
   "id": "ea969288",
   "metadata": {},
   "outputs": [],
   "source": [
    "df['engine_L'] = df.apply(lambda row : get_L(row), axis=1)\n",
    "df['engine_V'] = df.apply(lambda row : get_V(row), axis=1)"
   ]
  },
  {
   "cell_type": "markdown",
   "id": "3d01c6fe",
   "metadata": {},
   "source": [
    "### Drive train"
   ]
  },
  {
   "cell_type": "code",
   "execution_count": 299,
   "id": "6f05acb5",
   "metadata": {},
   "outputs": [],
   "source": [
    "# drop rows with blank drivetrain\n",
    "df.drivetrain = df.drivetrain.apply(lambda x : x[1:-1])\n",
    "df = df[df['drivetrain'] != '–']"
   ]
  },
  {
   "cell_type": "code",
   "execution_count": 300,
   "id": "09c17ffa",
   "metadata": {},
   "outputs": [],
   "source": [
    "def get_drivetrain(row):\n",
    "    i = row.drivetrain\n",
    "    four = re.compile('.*(Front|Rear|FWD).*')\n",
    "    two = re.compile('.*(All|Four|4WD|AWD).*')\n",
    "    if four.match(i):\n",
    "        return 4\n",
    "    elif two.match(i):\n",
    "        return 2\n",
    "    else:\n",
    "        return 0"
   ]
  },
  {
   "cell_type": "code",
   "execution_count": 301,
   "id": "e5dcdf15",
   "metadata": {},
   "outputs": [],
   "source": [
    "df['drivetrain'] = df.apply(lambda row : get_drivetrain(row), axis=1)"
   ]
  },
  {
   "cell_type": "markdown",
   "id": "d7c0fd55",
   "metadata": {},
   "source": [
    "### Make"
   ]
  },
  {
   "cell_type": "code",
   "execution_count": 302,
   "id": "1100766e",
   "metadata": {},
   "outputs": [],
   "source": [
    "def get_make_module(row):\n",
    "    i = row['name']\n",
    "    w = i.split()\n",
    "    return w"
   ]
  },
  {
   "cell_type": "code",
   "execution_count": 303,
   "id": "de0bed36",
   "metadata": {},
   "outputs": [],
   "source": [
    "df['make'] = df.apply(lambda row : get_make_module(row)[1], axis=1)\n",
    "df['module'] = df.apply(lambda row : get_make_module(row)[2], axis=1)"
   ]
  },
  {
   "cell_type": "markdown",
   "id": "54c64f18",
   "metadata": {},
   "source": [
    "### Drop useless columns"
   ]
  },
  {
   "cell_type": "code",
   "execution_count": 306,
   "id": "27601fe7",
   "metadata": {},
   "outputs": [],
   "source": [
    "df = df.drop(columns=\\\n",
    "             ['name', 'ex_color', 'in_color', \\\n",
    "              'mpg', 'fuel_type', 'transmission', 'engine'])"
   ]
  },
  {
   "cell_type": "code",
   "execution_count": 308,
   "id": "480a863d",
   "metadata": {},
   "outputs": [
    {
     "data": {
      "text/html": [
       "<div>\n",
       "<style scoped>\n",
       "    .dataframe tbody tr th:only-of-type {\n",
       "        vertical-align: middle;\n",
       "    }\n",
       "\n",
       "    .dataframe tbody tr th {\n",
       "        vertical-align: top;\n",
       "    }\n",
       "\n",
       "    .dataframe thead th {\n",
       "        text-align: right;\n",
       "    }\n",
       "</style>\n",
       "<table border=\"1\" class=\"dataframe\">\n",
       "  <thead>\n",
       "    <tr style=\"text-align: right;\">\n",
       "      <th></th>\n",
       "      <th>index</th>\n",
       "      <th>price</th>\n",
       "      <th>mileage</th>\n",
       "      <th>drivetrain</th>\n",
       "      <th>is_gas</th>\n",
       "      <th>is_diesel</th>\n",
       "      <th>is_electric</th>\n",
       "      <th>year</th>\n",
       "      <th>make</th>\n",
       "      <th>module</th>\n",
       "      <th>low_mpg</th>\n",
       "      <th>high_mpg</th>\n",
       "      <th>is_auto</th>\n",
       "      <th>is_cvt</th>\n",
       "      <th>is_manual</th>\n",
       "      <th>speed</th>\n",
       "      <th>engine_L</th>\n",
       "      <th>engine_V</th>\n",
       "    </tr>\n",
       "  </thead>\n",
       "  <tbody>\n",
       "    <tr>\n",
       "      <th>0</th>\n",
       "      <td>0</td>\n",
       "      <td>27995.0</td>\n",
       "      <td>27995.0</td>\n",
       "      <td>4</td>\n",
       "      <td>1</td>\n",
       "      <td>0</td>\n",
       "      <td>0</td>\n",
       "      <td>2019</td>\n",
       "      <td>Honda</td>\n",
       "      <td>Accord</td>\n",
       "      <td>29</td>\n",
       "      <td>35</td>\n",
       "      <td>1</td>\n",
       "      <td>1</td>\n",
       "      <td>0</td>\n",
       "      <td>0</td>\n",
       "      <td>1.5</td>\n",
       "      <td>16</td>\n",
       "    </tr>\n",
       "    <tr>\n",
       "      <th>1</th>\n",
       "      <td>1</td>\n",
       "      <td>41998.0</td>\n",
       "      <td>41998.0</td>\n",
       "      <td>2</td>\n",
       "      <td>1</td>\n",
       "      <td>0</td>\n",
       "      <td>0</td>\n",
       "      <td>2018</td>\n",
       "      <td>Porsche</td>\n",
       "      <td>Macan</td>\n",
       "      <td>20</td>\n",
       "      <td>25</td>\n",
       "      <td>1</td>\n",
       "      <td>0</td>\n",
       "      <td>0</td>\n",
       "      <td>7</td>\n",
       "      <td>2.0</td>\n",
       "      <td>16</td>\n",
       "    </tr>\n",
       "    <tr>\n",
       "      <th>2</th>\n",
       "      <td>2</td>\n",
       "      <td>52000.0</td>\n",
       "      <td>52000.0</td>\n",
       "      <td>4</td>\n",
       "      <td>1</td>\n",
       "      <td>0</td>\n",
       "      <td>0</td>\n",
       "      <td>2015</td>\n",
       "      <td>Chevrolet</td>\n",
       "      <td>Corvette</td>\n",
       "      <td>17</td>\n",
       "      <td>29</td>\n",
       "      <td>1</td>\n",
       "      <td>0</td>\n",
       "      <td>0</td>\n",
       "      <td>8</td>\n",
       "      <td>6.2</td>\n",
       "      <td>16</td>\n",
       "    </tr>\n",
       "    <tr>\n",
       "      <th>3</th>\n",
       "      <td>3</td>\n",
       "      <td>41998.0</td>\n",
       "      <td>41998.0</td>\n",
       "      <td>2</td>\n",
       "      <td>1</td>\n",
       "      <td>0</td>\n",
       "      <td>0</td>\n",
       "      <td>2020</td>\n",
       "      <td>Jeep</td>\n",
       "      <td>Grand</td>\n",
       "      <td>18</td>\n",
       "      <td>25</td>\n",
       "      <td>1</td>\n",
       "      <td>0</td>\n",
       "      <td>0</td>\n",
       "      <td>8</td>\n",
       "      <td>3.6</td>\n",
       "      <td>24</td>\n",
       "    </tr>\n",
       "    <tr>\n",
       "      <th>4</th>\n",
       "      <td>4</td>\n",
       "      <td>29995.0</td>\n",
       "      <td>29995.0</td>\n",
       "      <td>4</td>\n",
       "      <td>1</td>\n",
       "      <td>0</td>\n",
       "      <td>0</td>\n",
       "      <td>2017</td>\n",
       "      <td>Ford</td>\n",
       "      <td>Mustang</td>\n",
       "      <td>15</td>\n",
       "      <td>25</td>\n",
       "      <td>1</td>\n",
       "      <td>0</td>\n",
       "      <td>0</td>\n",
       "      <td>0</td>\n",
       "      <td>5.0</td>\n",
       "      <td>0</td>\n",
       "    </tr>\n",
       "  </tbody>\n",
       "</table>\n",
       "</div>"
      ],
      "text/plain": [
       "   index    price  mileage  drivetrain  is_gas  is_diesel  is_electric  year  \\\n",
       "0      0  27995.0  27995.0           4       1          0            0  2019   \n",
       "1      1  41998.0  41998.0           2       1          0            0  2018   \n",
       "2      2  52000.0  52000.0           4       1          0            0  2015   \n",
       "3      3  41998.0  41998.0           2       1          0            0  2020   \n",
       "4      4  29995.0  29995.0           4       1          0            0  2017   \n",
       "\n",
       "        make    module low_mpg high_mpg  is_auto  is_cvt  is_manual  speed  \\\n",
       "0      Honda    Accord      29       35        1       1          0      0   \n",
       "1    Porsche     Macan      20       25        1       0          0      7   \n",
       "2  Chevrolet  Corvette      17       29        1       0          0      8   \n",
       "3       Jeep     Grand      18       25        1       0          0      8   \n",
       "4       Ford   Mustang      15       25        1       0          0      0   \n",
       "\n",
       "  engine_L  engine_V  \n",
       "0      1.5        16  \n",
       "1      2.0        16  \n",
       "2      6.2        16  \n",
       "3      3.6        24  \n",
       "4      5.0         0  "
      ]
     },
     "execution_count": 308,
     "metadata": {},
     "output_type": "execute_result"
    }
   ],
   "source": [
    "df.head()"
   ]
  },
  {
   "cell_type": "markdown",
   "id": "e25290a1",
   "metadata": {},
   "source": [
    "## Build regression module"
   ]
  },
  {
   "cell_type": "code",
   "execution_count": null,
   "id": "201d23a6",
   "metadata": {},
   "outputs": [],
   "source": []
  }
 ],
 "metadata": {
  "kernelspec": {
   "display_name": "Python 3 (regression)",
   "language": "python",
   "name": "regression"
  },
  "language_info": {
   "codemirror_mode": {
    "name": "ipython",
    "version": 3
   },
   "file_extension": ".py",
   "mimetype": "text/x-python",
   "name": "python",
   "nbconvert_exporter": "python",
   "pygments_lexer": "ipython3",
   "version": "3.8.13"
  }
 },
 "nbformat": 4,
 "nbformat_minor": 5
}
