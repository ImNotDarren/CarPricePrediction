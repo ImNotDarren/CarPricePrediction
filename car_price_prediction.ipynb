{
 "cells": [
  {
   "cell_type": "markdown",
   "id": "72aefc09",
   "metadata": {},
   "source": [
    "# Car Price Prediction"
   ]
  },
  {
   "cell_type": "code",
   "execution_count": 1,
   "id": "6c03589a",
   "metadata": {},
   "outputs": [
    {
     "name": "stderr",
     "output_type": "stream",
     "text": [
      "/Users/darren/opt/anaconda3/envs/regression/lib/python3.8/site-packages/fuzzywuzzy/fuzz.py:11: UserWarning: Using slow pure-python SequenceMatcher. Install python-Levenshtein to remove this warning\n",
      "  warnings.warn('Using slow pure-python SequenceMatcher. Install python-Levenshtein to remove this warning')\n"
     ]
    }
   ],
   "source": [
    "import statsmodels.api as sm\n",
    "import pandas as pd\n",
    "import matplotlib.pyplot as plt\n",
    "from sklearn.linear_model import LinearRegression, LassoCV, RidgeCV\n",
    "from sklearn.model_selection import train_test_split, KFold\n",
    "from sklearn.metrics import mean_squared_error, mean_absolute_error\n",
    "from sklearn.preprocessing import PolynomialFeatures, StandardScaler\n",
    "import seaborn as sns\n",
    "from bs4 import BeautifulSoup as bs\n",
    "import requests\n",
    "import re\n",
    "import time\n",
    "from datetime import date\n",
    "import numpy as np\n",
    "import pickle\n",
    "from uszipcode import SearchEngine\n",
    "%matplotlib inline"
   ]
  },
  {
   "cell_type": "markdown",
   "id": "8d7dc152",
   "metadata": {},
   "source": [
    "## Getting scraped data from csv file"
   ]
  },
  {
   "cell_type": "code",
   "execution_count": 2,
   "id": "d443afbb",
   "metadata": {},
   "outputs": [],
   "source": [
    "df = pd.read_csv('data/car_info.csv', index_col=0)\n",
    "df2 = pd.read_csv('data/car_info_extended.csv', index_col=0)\n",
    "df = pd.concat([df, df2])\n",
    "df = df.dropna()\n",
    "df = df[df.zipcode != 0]\n",
    "# train_df, test_df = train_test_split(df, test_size=0.2)\n",
    "# train_df.to_csv('data/train_df.csv', encoding='utf-8')\n",
    "# test_df.to_csv('data/test_df.csv', encoding='utf-8')"
   ]
  },
  {
   "cell_type": "code",
   "execution_count": 3,
   "id": "f0644ce1",
   "metadata": {},
   "outputs": [],
   "source": [
    "# train_df = pd.read_csv('data/train_df.csv', index_col=0)\n",
    "# test_df = pd.read_csv('data/test_df.csv', index_col=0)"
   ]
  },
  {
   "cell_type": "code",
   "execution_count": 4,
   "id": "37bc5ca5",
   "metadata": {},
   "outputs": [],
   "source": [
    "# train_df.head()"
   ]
  },
  {
   "cell_type": "markdown",
   "id": "aac2a8cf",
   "metadata": {},
   "source": [
    "## Data cleaning"
   ]
  },
  {
   "cell_type": "markdown",
   "id": "8147ccd5",
   "metadata": {},
   "source": [
    "### Fuel type"
   ]
  },
  {
   "cell_type": "code",
   "execution_count": 5,
   "id": "b87e7c82",
   "metadata": {},
   "outputs": [],
   "source": [
    "def is_gas(row):\n",
    "    regex1 = re.compile('.*Gas.*')\n",
    "    regex2 = re.compile('.*Flex.*')\n",
    "    if regex1.match(row.fuel_type) or \\\n",
    "    regex2.match(row.fuel_type) or \\\n",
    "    row.fuel_type == 'Hybrid ':\n",
    "        return 1\n",
    "    else:\n",
    "        return 0\n",
    "    \n",
    "def is_diesel(row):\n",
    "    regex1 = re.compile('Diesel.*')\n",
    "    regex2 = re.compile('.*Flex Fuel.*')\n",
    "    if regex1.match(row.fuel_type) or \\\n",
    "    regex2.match(row.fuel_type):\n",
    "        return 1\n",
    "    else:\n",
    "        return 0\n",
    "    \n",
    "def is_electric(row):\n",
    "    regex = re.compile('.*Electric.*')\n",
    "    if regex.match(row.fuel_type) or \\\n",
    "    row.fuel_type == 'Hybrid ':\n",
    "        return 1\n",
    "    else:\n",
    "        return 0"
   ]
  },
  {
   "cell_type": "code",
   "execution_count": 6,
   "id": "0de9c5a4",
   "metadata": {},
   "outputs": [],
   "source": [
    "df['is_gas'] = df.apply(lambda row : is_gas(row), axis=1)\n",
    "df['is_diesel'] = df.apply(lambda row : is_diesel(row), axis=1)\n",
    "df['is_electric'] = df.apply(lambda row : is_electric(row), axis=1)"
   ]
  },
  {
   "cell_type": "markdown",
   "id": "6ac0390b",
   "metadata": {},
   "source": [
    "### Year & make"
   ]
  },
  {
   "cell_type": "code",
   "execution_count": 7,
   "id": "ae2287da",
   "metadata": {},
   "outputs": [],
   "source": [
    "def get_year_make_model(row):\n",
    "    i = row['name']\n",
    "    w = i.split()\n",
    "    return w"
   ]
  },
  {
   "cell_type": "code",
   "execution_count": 8,
   "id": "557019db",
   "metadata": {},
   "outputs": [],
   "source": [
    "df['age'] = df.apply(lambda row : date.today().year - int(get_year_make_model(row)[0]), axis=1)\\\n",
    "    .astype('int')\n",
    "df['make'] = df.apply(lambda row : get_year_make_model(row)[1], axis=1)\n",
    "# df['model'] = df.apply(lambda row : get_year_make_model(row)[2], axis=1)"
   ]
  },
  {
   "cell_type": "markdown",
   "id": "db066188",
   "metadata": {},
   "source": [
    "### MPG"
   ]
  },
  {
   "cell_type": "code",
   "execution_count": 9,
   "id": "b5e6face",
   "metadata": {},
   "outputs": [],
   "source": [
    "# drop rows with blank mpg\n",
    "df = df[df['mpg'] != '–']\n",
    "df = df[df['mpg'] != 'None']"
   ]
  },
  {
   "cell_type": "code",
   "execution_count": 10,
   "id": "3ada9c26",
   "metadata": {},
   "outputs": [],
   "source": [
    "def get_low_mpg(row):\n",
    "    if row.mpg == '–' or row.mpg == 'None':\n",
    "        return 25.4\n",
    "    else:\n",
    "        i = row.mpg.find('–')\n",
    "        if i != -1:\n",
    "            return row.mpg[0:i]\n",
    "        else:\n",
    "            return row.mpg\n",
    "\n",
    "def get_high_mpg(row):\n",
    "    if row.mpg == '-' or row.mpg == 'None':\n",
    "        return 25.4\n",
    "    else:\n",
    "        i = row.mpg.find('–')\n",
    "        if i != -1:\n",
    "            return row.mpg[i+1:]\n",
    "        else:\n",
    "            return row.mpg"
   ]
  },
  {
   "cell_type": "code",
   "execution_count": 11,
   "id": "f410f054",
   "metadata": {},
   "outputs": [],
   "source": [
    "df['mpg'] = df.apply(lambda row : int(get_low_mpg(row)) + int(get_high_mpg(row)), axis=1).astype('int')"
   ]
  },
  {
   "cell_type": "markdown",
   "id": "5fdaf44a",
   "metadata": {},
   "source": [
    "### Transmission"
   ]
  },
  {
   "cell_type": "code",
   "execution_count": 12,
   "id": "47e6f3c9",
   "metadata": {},
   "outputs": [],
   "source": [
    "def is_auto(row):\n",
    "    regex = re.compile('.*([A|a]uto|A/T|Dual Shift).*')\n",
    "    if regex.match(row.transmission):\n",
    "        return 1\n",
    "    else:\n",
    "        return 0\n",
    "\n",
    "def is_cvt(row):\n",
    "    regex = re.compile('.*(CVT|Variable).*')\n",
    "    if regex.match(row.transmission):\n",
    "        return 1\n",
    "    else:\n",
    "        return 0\n",
    "    \n",
    "def is_manual(row):\n",
    "    regex = re.compile('.*(Manual|M/T).*')\n",
    "    if regex.match(row.transmission):\n",
    "        return 1\n",
    "    else:\n",
    "        return 0\n",
    "    \n",
    "def get_speed(row):\n",
    "    tmp = row.transmission\n",
    "    tmp = re.sub('[^0-9]', '', tmp)\n",
    "    if tmp == '':\n",
    "        return 6\n",
    "    else:\n",
    "        return int(tmp)"
   ]
  },
  {
   "cell_type": "code",
   "execution_count": 13,
   "id": "aa1e97ca",
   "metadata": {},
   "outputs": [],
   "source": [
    "df['is_auto'] = df.apply(lambda row : is_auto(row), axis=1)\n",
    "df['is_cvt'] = df.apply(lambda row : is_cvt(row), axis=1)\n",
    "df['is_manual'] = df.apply(lambda row : is_manual(row), axis=1)\n",
    "df['speed'] = df.apply(lambda row : get_speed(row), axis=1)"
   ]
  },
  {
   "cell_type": "markdown",
   "id": "3353092f",
   "metadata": {},
   "source": [
    "### Engine"
   ]
  },
  {
   "cell_type": "code",
   "execution_count": 14,
   "id": "07d19440",
   "metadata": {},
   "outputs": [],
   "source": [
    "def get_L(row):\n",
    "    i = row.engine.find('L')\n",
    "    if i == -1:\n",
    "        return 0\n",
    "    else:\n",
    "        return float(row.engine[i-3:i])\n",
    "\n",
    "def get_V(row):\n",
    "    i = row.engine\n",
    "    a = re.compile('.*16V.*')\n",
    "    b = re.compile('.*24V.*')\n",
    "    c = re.compile('.*32V.*')\n",
    "    d = re.compile('.*48V.*')\n",
    "    e = re.compile('.*12V.*')\n",
    "    if a.match(i):\n",
    "        return '16V'\n",
    "    elif b.match(i):\n",
    "        return '24V'\n",
    "    elif c.match(i):\n",
    "        return '32V'\n",
    "    elif d.match(i):\n",
    "        return '48V'\n",
    "    elif e.match(i):\n",
    "        return '12V'\n",
    "    else:\n",
    "        return 'Others'\n",
    "    \n",
    "def is_PDI(row):\n",
    "    engine = row.engine\n",
    "    a = re.compile('.*PDI.*')\n",
    "    if a.match(engine):\n",
    "        return 1\n",
    "    else:\n",
    "        return 0\n",
    "    \n",
    "def is_GDI(row):\n",
    "    engine = row.engine\n",
    "    a = re.compile('.*GDI.*')\n",
    "    if a.match(engine):\n",
    "        return 1\n",
    "    else:\n",
    "        return 0\n",
    "\n",
    "def is_MPFI(row):\n",
    "    engine = row.engine\n",
    "    a = re.compile('.*MPFI.*')\n",
    "    if a.match(engine):\n",
    "        return 1\n",
    "    else:\n",
    "        return 0\n",
    "    \n",
    "def is_DOHC(row):\n",
    "    engine = row.engine\n",
    "    a = re.compile('.*DOHC.*')\n",
    "    if a.match(engine):\n",
    "        return 1\n",
    "    else:\n",
    "        return 0\n",
    "    \n",
    "def is_cylinder_engine(row):\n",
    "    engine = row.engine\n",
    "    a = re.compile('.*Cylinder Engine.*')\n",
    "    if a.match(engine):\n",
    "        return 1\n",
    "    else:\n",
    "        return 0"
   ]
  },
  {
   "cell_type": "code",
   "execution_count": 15,
   "id": "b898f82a",
   "metadata": {},
   "outputs": [],
   "source": [
    "df['engine_L'] = df.apply(lambda row : get_L(row), axis=1).astype('float')\n",
    "df['engine_V'] = df.apply(lambda row : get_V(row), axis=1)\n",
    "df['is_PDI'] = df.apply(lambda row : is_PDI(row), axis=1).astype('int')\n",
    "df['is_GDI'] = df.apply(lambda row : is_GDI(row), axis=1).astype('int')\n",
    "df['is_MPFI'] = df.apply(lambda row : is_MPFI(row), axis=1).astype('int')\n",
    "df['is_DOHC'] = df.apply(lambda row : is_DOHC(row), axis=1).astype('int')\n",
    "df = pd.get_dummies(df, columns=['engine_V'])"
   ]
  },
  {
   "cell_type": "markdown",
   "id": "393ab6d0",
   "metadata": {},
   "source": [
    "### Drivetrain"
   ]
  },
  {
   "cell_type": "code",
   "execution_count": 16,
   "id": "bfcf3a9a",
   "metadata": {},
   "outputs": [],
   "source": [
    "# drop rows with blank drivetrain\n",
    "df.drivetrain = df.drivetrain.apply(lambda x : x[1:-1])\n",
    "df = df[df['drivetrain'] != '–']"
   ]
  },
  {
   "cell_type": "code",
   "execution_count": 17,
   "id": "938e8275",
   "metadata": {},
   "outputs": [],
   "source": [
    "def get_drivetrain(row):\n",
    "    i = row.drivetrain\n",
    "    four = re.compile('.*(Front|Rear|FWD).*')\n",
    "    two = re.compile('.*(All|Four|4WD|AWD).*')\n",
    "    if four.match(i):\n",
    "        return '4'\n",
    "    elif two.match(i):\n",
    "        return '2'\n",
    "    else:\n",
    "        return 'Others'"
   ]
  },
  {
   "cell_type": "code",
   "execution_count": 18,
   "id": "e761b9b8",
   "metadata": {},
   "outputs": [],
   "source": [
    "df['drivetrain'] = df.apply(lambda row : get_drivetrain(row), axis=1)\n",
    "df = pd.get_dummies(df, columns=['drivetrain'])"
   ]
  },
  {
   "cell_type": "markdown",
   "id": "b4282238",
   "metadata": {},
   "source": [
    "## Zipcode"
   ]
  },
  {
   "cell_type": "code",
   "execution_count": 19,
   "id": "aabbcca9",
   "metadata": {},
   "outputs": [],
   "source": [
    "zipcode_to_crime_rate = pd.DataFrame(columns=['zipcode', 'crime_rate'])\n",
    "zipcode_to_crime_rate['zipcode'] = df.zipcode.unique()\n",
    "zipcode_to_crime_rate.crime_rate =\\\n",
    "    zipcode_to_crime_rate.crime_rate.apply(lambda x : 0)"
   ]
  },
  {
   "cell_type": "code",
   "execution_count": 20,
   "id": "822bf5ba",
   "metadata": {},
   "outputs": [],
   "source": [
    "# get zip code\n",
    "def get_population(row):\n",
    "    engine = SearchEngine()\n",
    "    zipcode = engine.by_zipcode(row.zipcode)\n",
    "    return zipcode.population"
   ]
  },
  {
   "cell_type": "code",
   "execution_count": 21,
   "id": "7b36abbb",
   "metadata": {},
   "outputs": [],
   "source": [
    "df['population'] = df.apply(lambda row : get_population(row), axis=1)"
   ]
  },
  {
   "cell_type": "markdown",
   "id": "02ebbd84",
   "metadata": {},
   "source": [
    "## Car make and model"
   ]
  },
  {
   "cell_type": "code",
   "execution_count": 22,
   "id": "f7428280",
   "metadata": {},
   "outputs": [],
   "source": [
    "# df = pd.get_dummies(df, columns=['make_model'], \\\n",
    "#                     prefix='mm', prefix_sep='_')"
   ]
  },
  {
   "cell_type": "code",
   "execution_count": 23,
   "id": "5d72ad3a",
   "metadata": {},
   "outputs": [],
   "source": [
    "def get_make(row):\n",
    "    make = df.make.value_counts()\n",
    "    make = make[make>100].index.tolist()\n",
    "    if row.make in make:\n",
    "        return row.make\n",
    "    else:\n",
    "        return 'Others'"
   ]
  },
  {
   "cell_type": "code",
   "execution_count": 24,
   "id": "e38eefeb",
   "metadata": {
    "scrolled": false
   },
   "outputs": [],
   "source": [
    "# df['make'] = df.apply(lambda row : get_make(row), axis=1)"
   ]
  },
  {
   "cell_type": "code",
   "execution_count": 25,
   "id": "e3168b0c",
   "metadata": {},
   "outputs": [],
   "source": [
    "df = pd.get_dummies(df, columns=['make'])"
   ]
  },
  {
   "cell_type": "markdown",
   "id": "d10a3837",
   "metadata": {},
   "source": [
    "### Drop useless columns"
   ]
  },
  {
   "cell_type": "code",
   "execution_count": 26,
   "id": "a9dcfa27",
   "metadata": {
    "scrolled": true
   },
   "outputs": [],
   "source": [
    "# sns.pairplot(df[['price', 'mileage', 'age', 'population', 'mpg', 'speed']])"
   ]
  },
  {
   "cell_type": "code",
   "execution_count": 27,
   "id": "b8d30c59",
   "metadata": {},
   "outputs": [],
   "source": [
    "df = df.drop(columns=\\\n",
    "             ['name', 'mpg', 'speed', 'fuel_type', 'transmission', 'engine', 'personal_use', 'zipcode'])\n",
    "df = df.dropna()"
   ]
  },
  {
   "cell_type": "code",
   "execution_count": 40,
   "id": "37699879",
   "metadata": {},
   "outputs": [],
   "source": [
    "# train_df, test_df = train_test_split(df, test_size=0.2)\n",
    "# train_df.to_csv('data/train_df.csv', encoding='utf-8')\n",
    "# test_df.to_csv('data/test_df.csv', encoding='utf-8')"
   ]
  },
  {
   "cell_type": "code",
   "execution_count": 29,
   "id": "f7a90a2b",
   "metadata": {},
   "outputs": [
    {
     "data": {
      "text/html": [
       "<div>\n",
       "<style scoped>\n",
       "    .dataframe tbody tr th:only-of-type {\n",
       "        vertical-align: middle;\n",
       "    }\n",
       "\n",
       "    .dataframe tbody tr th {\n",
       "        vertical-align: top;\n",
       "    }\n",
       "\n",
       "    .dataframe thead th {\n",
       "        text-align: right;\n",
       "    }\n",
       "</style>\n",
       "<table border=\"1\" class=\"dataframe\">\n",
       "  <thead>\n",
       "    <tr style=\"text-align: right;\">\n",
       "      <th></th>\n",
       "      <th>price</th>\n",
       "      <th>mileage</th>\n",
       "      <th>oneowner</th>\n",
       "      <th>is_gas</th>\n",
       "      <th>is_diesel</th>\n",
       "      <th>is_electric</th>\n",
       "      <th>age</th>\n",
       "      <th>is_auto</th>\n",
       "      <th>is_cvt</th>\n",
       "      <th>is_manual</th>\n",
       "      <th>...</th>\n",
       "      <th>make_Rolls-Royce</th>\n",
       "      <th>make_Saturn</th>\n",
       "      <th>make_Scion</th>\n",
       "      <th>make_Subaru</th>\n",
       "      <th>make_Suzuki</th>\n",
       "      <th>make_Tesla</th>\n",
       "      <th>make_Toyota</th>\n",
       "      <th>make_Volkswagen</th>\n",
       "      <th>make_Volvo</th>\n",
       "      <th>make_smart</th>\n",
       "    </tr>\n",
       "  </thead>\n",
       "  <tbody>\n",
       "    <tr>\n",
       "      <th>0</th>\n",
       "      <td>54891.0</td>\n",
       "      <td>35283</td>\n",
       "      <td>3</td>\n",
       "      <td>1</td>\n",
       "      <td>0</td>\n",
       "      <td>0</td>\n",
       "      <td>3</td>\n",
       "      <td>1</td>\n",
       "      <td>0</td>\n",
       "      <td>0</td>\n",
       "      <td>...</td>\n",
       "      <td>0</td>\n",
       "      <td>0</td>\n",
       "      <td>0</td>\n",
       "      <td>0</td>\n",
       "      <td>0</td>\n",
       "      <td>0</td>\n",
       "      <td>0</td>\n",
       "      <td>0</td>\n",
       "      <td>0</td>\n",
       "      <td>0</td>\n",
       "    </tr>\n",
       "    <tr>\n",
       "      <th>1</th>\n",
       "      <td>28803.0</td>\n",
       "      <td>66508</td>\n",
       "      <td>3</td>\n",
       "      <td>1</td>\n",
       "      <td>0</td>\n",
       "      <td>0</td>\n",
       "      <td>2</td>\n",
       "      <td>1</td>\n",
       "      <td>0</td>\n",
       "      <td>0</td>\n",
       "      <td>...</td>\n",
       "      <td>0</td>\n",
       "      <td>0</td>\n",
       "      <td>0</td>\n",
       "      <td>0</td>\n",
       "      <td>0</td>\n",
       "      <td>0</td>\n",
       "      <td>0</td>\n",
       "      <td>0</td>\n",
       "      <td>0</td>\n",
       "      <td>0</td>\n",
       "    </tr>\n",
       "    <tr>\n",
       "      <th>2</th>\n",
       "      <td>27500.0</td>\n",
       "      <td>75651</td>\n",
       "      <td>0</td>\n",
       "      <td>1</td>\n",
       "      <td>0</td>\n",
       "      <td>0</td>\n",
       "      <td>5</td>\n",
       "      <td>1</td>\n",
       "      <td>0</td>\n",
       "      <td>0</td>\n",
       "      <td>...</td>\n",
       "      <td>0</td>\n",
       "      <td>0</td>\n",
       "      <td>0</td>\n",
       "      <td>0</td>\n",
       "      <td>0</td>\n",
       "      <td>0</td>\n",
       "      <td>0</td>\n",
       "      <td>0</td>\n",
       "      <td>0</td>\n",
       "      <td>0</td>\n",
       "    </tr>\n",
       "    <tr>\n",
       "      <th>3</th>\n",
       "      <td>36000.0</td>\n",
       "      <td>48800</td>\n",
       "      <td>0</td>\n",
       "      <td>1</td>\n",
       "      <td>0</td>\n",
       "      <td>0</td>\n",
       "      <td>4</td>\n",
       "      <td>1</td>\n",
       "      <td>0</td>\n",
       "      <td>0</td>\n",
       "      <td>...</td>\n",
       "      <td>0</td>\n",
       "      <td>0</td>\n",
       "      <td>0</td>\n",
       "      <td>0</td>\n",
       "      <td>0</td>\n",
       "      <td>0</td>\n",
       "      <td>0</td>\n",
       "      <td>0</td>\n",
       "      <td>0</td>\n",
       "      <td>0</td>\n",
       "    </tr>\n",
       "    <tr>\n",
       "      <th>5</th>\n",
       "      <td>79989.0</td>\n",
       "      <td>13727</td>\n",
       "      <td>3</td>\n",
       "      <td>1</td>\n",
       "      <td>0</td>\n",
       "      <td>0</td>\n",
       "      <td>5</td>\n",
       "      <td>1</td>\n",
       "      <td>0</td>\n",
       "      <td>0</td>\n",
       "      <td>...</td>\n",
       "      <td>0</td>\n",
       "      <td>0</td>\n",
       "      <td>0</td>\n",
       "      <td>0</td>\n",
       "      <td>0</td>\n",
       "      <td>0</td>\n",
       "      <td>0</td>\n",
       "      <td>0</td>\n",
       "      <td>0</td>\n",
       "      <td>0</td>\n",
       "    </tr>\n",
       "  </tbody>\n",
       "</table>\n",
       "<p>5 rows × 73 columns</p>\n",
       "</div>"
      ],
      "text/plain": [
       "     price  mileage  oneowner  is_gas  is_diesel  is_electric  age  is_auto  \\\n",
       "0  54891.0    35283         3       1          0            0    3        1   \n",
       "1  28803.0    66508         3       1          0            0    2        1   \n",
       "2  27500.0    75651         0       1          0            0    5        1   \n",
       "3  36000.0    48800         0       1          0            0    4        1   \n",
       "5  79989.0    13727         3       1          0            0    5        1   \n",
       "\n",
       "   is_cvt  is_manual  ...  make_Rolls-Royce  make_Saturn  make_Scion  \\\n",
       "0       0          0  ...                 0            0           0   \n",
       "1       0          0  ...                 0            0           0   \n",
       "2       0          0  ...                 0            0           0   \n",
       "3       0          0  ...                 0            0           0   \n",
       "5       0          0  ...                 0            0           0   \n",
       "\n",
       "   make_Subaru  make_Suzuki  make_Tesla  make_Toyota  make_Volkswagen  \\\n",
       "0            0            0           0            0                0   \n",
       "1            0            0           0            0                0   \n",
       "2            0            0           0            0                0   \n",
       "3            0            0           0            0                0   \n",
       "5            0            0           0            0                0   \n",
       "\n",
       "   make_Volvo  make_smart  \n",
       "0           0           0  \n",
       "1           0           0  \n",
       "2           0           0  \n",
       "3           0           0  \n",
       "5           0           0  \n",
       "\n",
       "[5 rows x 73 columns]"
      ]
     },
     "execution_count": 29,
     "metadata": {},
     "output_type": "execute_result"
    }
   ],
   "source": [
    "df.head()"
   ]
  },
  {
   "cell_type": "markdown",
   "id": "948e4fab",
   "metadata": {},
   "source": [
    "## Building regression model"
   ]
  },
  {
   "cell_type": "markdown",
   "id": "2441a144",
   "metadata": {},
   "source": [
    "### Lasso Regression model"
   ]
  },
  {
   "cell_type": "code",
   "execution_count": 32,
   "id": "9507f952",
   "metadata": {},
   "outputs": [],
   "source": [
    "train_df, test_df = train_test_split(df, test_size=0.2)\n",
    "X = train_df.drop(columns=['price'], axis=1)\n",
    "y = train_df.price"
   ]
  },
  {
   "cell_type": "code",
   "execution_count": 41,
   "id": "9a5e4abd",
   "metadata": {},
   "outputs": [
    {
     "data": {
      "text/plain": [
       "Index(['price', 'mileage', 'oneowner', 'is_gas', 'is_diesel', 'is_electric',\n",
       "       'age', 'is_auto', 'is_cvt', 'is_manual', 'engine_L', 'is_PDI', 'is_GDI',\n",
       "       'is_MPFI', 'is_DOHC', 'engine_V_12V', 'engine_V_16V', 'engine_V_24V',\n",
       "       'engine_V_32V', 'engine_V_48V', 'engine_V_Others', 'drivetrain_2',\n",
       "       'drivetrain_4', 'drivetrain_Others', 'population', 'make_Acura',\n",
       "       'make_Alfa', 'make_Aston', 'make_Audi', 'make_BMW', 'make_Bentley',\n",
       "       'make_Buick', 'make_Cadillac', 'make_Chevrolet', 'make_Chrysler',\n",
       "       'make_Dodge', 'make_Ferrari', 'make_Ford', 'make_GMC', 'make_Genesis',\n",
       "       'make_Honda', 'make_Hyundai', 'make_INFINITI', 'make_Jaguar',\n",
       "       'make_Jeep', 'make_Kia', 'make_Lamborghini', 'make_Land', 'make_Lexus',\n",
       "       'make_Lincoln', 'make_Lotus', 'make_MINI', 'make_Maserati',\n",
       "       'make_Mazda', 'make_McLaren', 'make_Mercedes-Benz', 'make_Mercury',\n",
       "       'make_Mitsubishi', 'make_Nissan', 'make_Plymouth', 'make_Pontiac',\n",
       "       'make_Porsche', 'make_RAM', 'make_Rolls-Royce', 'make_Saturn',\n",
       "       'make_Scion', 'make_Subaru', 'make_Suzuki', 'make_Tesla', 'make_Toyota',\n",
       "       'make_Volkswagen', 'make_Volvo', 'make_smart'],\n",
       "      dtype='object')"
      ]
     },
     "execution_count": 41,
     "metadata": {},
     "output_type": "execute_result"
    }
   ],
   "source": [
    "train_df.columns"
   ]
  },
  {
   "cell_type": "code",
   "execution_count": 35,
   "id": "530b8587",
   "metadata": {},
   "outputs": [
    {
     "data": {
      "text/plain": [
       "0.8230144127265071"
      ]
     },
     "execution_count": 35,
     "metadata": {},
     "output_type": "execute_result"
    }
   ],
   "source": [
    "# ridge regression\n",
    "scaler = StandardScaler()\n",
    "X_scaled = scaler.fit_transform(X)\n",
    "poly = PolynomialFeatures(degree=2)\n",
    "X_scaled_poly = poly.fit_transform(X_scaled)\n",
    "alphas = 10**np.linspace(-4, 4, 50)\n",
    "ridge = RidgeCV(alphas=alphas, cv=5)\n",
    "ridge.fit(X_scaled_poly, y)\n",
    "ridge.score(X_scaled_poly, y)"
   ]
  },
  {
   "cell_type": "code",
   "execution_count": 36,
   "id": "5eb62313",
   "metadata": {},
   "outputs": [
    {
     "data": {
      "text/plain": [
       "494.1713361323828"
      ]
     },
     "execution_count": 36,
     "metadata": {},
     "output_type": "execute_result"
    }
   ],
   "source": [
    "ridge.alpha_"
   ]
  },
  {
   "cell_type": "code",
   "execution_count": 37,
   "id": "ed8f0b9a",
   "metadata": {},
   "outputs": [
    {
     "data": {
      "text/plain": [
       "0.7841333431258171"
      ]
     },
     "execution_count": 37,
     "metadata": {},
     "output_type": "execute_result"
    }
   ],
   "source": [
    "X_test = test_df.drop(columns=['price'], axis=1)\n",
    "y_test = test_df.price\n",
    "\n",
    "X_test_scaled = scaler.transform(X_test)\n",
    "X_test_scaled_poly = poly.transform(X_test_scaled)\n",
    "\n",
    "ridge.score(X_test_scaled_poly, y_test)"
   ]
  },
  {
   "cell_type": "code",
   "execution_count": 38,
   "id": "f04df356",
   "metadata": {},
   "outputs": [],
   "source": [
    "# save the model\n",
    "with open('models/ridge_model.pkl', 'wb') as file:\n",
    "    pickle.dump(ridge, file)"
   ]
  },
  {
   "cell_type": "code",
   "execution_count": 39,
   "id": "a00df11c",
   "metadata": {},
   "outputs": [],
   "source": [
    "with open('models/scaler.pkl', 'wb') as file:\n",
    "    pickle.dump(scaler, file)"
   ]
  },
  {
   "cell_type": "code",
   "execution_count": null,
   "id": "f1580add",
   "metadata": {},
   "outputs": [],
   "source": []
  }
 ],
 "metadata": {
  "kernelspec": {
   "display_name": "Python 3 (regression)",
   "language": "python",
   "name": "regression"
  },
  "language_info": {
   "codemirror_mode": {
    "name": "ipython",
    "version": 3
   },
   "file_extension": ".py",
   "mimetype": "text/x-python",
   "name": "python",
   "nbconvert_exporter": "python",
   "pygments_lexer": "ipython3",
   "version": "3.8.13"
  }
 },
 "nbformat": 4,
 "nbformat_minor": 5
}