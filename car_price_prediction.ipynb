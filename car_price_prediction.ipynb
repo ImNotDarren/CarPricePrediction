{
 "cells": [
  {
   "cell_type": "markdown",
   "id": "72aefc09",
   "metadata": {},
   "source": [
    "# Car Price Prediction"
   ]
  },
  {
   "cell_type": "code",
   "execution_count": 1,
   "id": "6c03589a",
   "metadata": {},
   "outputs": [
    {
     "name": "stderr",
     "output_type": "stream",
     "text": [
      "/Users/darren/opt/anaconda3/envs/regression/lib/python3.8/site-packages/fuzzywuzzy/fuzz.py:11: UserWarning: Using slow pure-python SequenceMatcher. Install python-Levenshtein to remove this warning\n",
      "  warnings.warn('Using slow pure-python SequenceMatcher. Install python-Levenshtein to remove this warning')\n"
     ]
    }
   ],
   "source": [
    "import statsmodels.api as sm\n",
    "import pandas as pd\n",
    "import matplotlib.pyplot as plt\n",
    "from sklearn.linear_model import LinearRegression, LassoCV, RidgeCV\n",
    "from sklearn.model_selection import train_test_split, KFold\n",
    "from sklearn.metrics import mean_squared_error, mean_absolute_error\n",
    "from sklearn.preprocessing import PolynomialFeatures, StandardScaler\n",
    "import seaborn as sns\n",
    "from bs4 import BeautifulSoup as bs\n",
    "import requests\n",
    "import re\n",
    "import time\n",
    "from datetime import date\n",
    "import numpy as np\n",
    "import pickle\n",
    "from uszipcode import SearchEngine\n",
    "%matplotlib inline"
   ]
  },
  {
   "cell_type": "markdown",
   "id": "8d7dc152",
   "metadata": {},
   "source": [
    "## Getting scraped data from csv file"
   ]
  },
  {
   "cell_type": "code",
   "execution_count": 2,
   "id": "d443afbb",
   "metadata": {},
   "outputs": [],
   "source": [
    "df = pd.read_csv('data/car_info_extended.csv', index_col=0)\n",
    "df = df.dropna()\n",
    "df = df[df.zipcode != 0]\n",
    "# train_df, test_df = train_test_split(df, test_size=0.2)\n",
    "# train_df.to_csv('data/train_df.csv', encoding='utf-8')\n",
    "# test_df.to_csv('data/test_df.csv', encoding='utf-8')"
   ]
  },
  {
   "cell_type": "code",
   "execution_count": 3,
   "id": "f0644ce1",
   "metadata": {},
   "outputs": [],
   "source": [
    "# train_df = pd.read_csv('data/train_df.csv', index_col=0)\n",
    "# test_df = pd.read_csv('data/test_df.csv', index_col=0)"
   ]
  },
  {
   "cell_type": "code",
   "execution_count": 4,
   "id": "37bc5ca5",
   "metadata": {},
   "outputs": [],
   "source": [
    "# train_df.head()"
   ]
  },
  {
   "cell_type": "markdown",
   "id": "aac2a8cf",
   "metadata": {},
   "source": [
    "## Data cleaning"
   ]
  },
  {
   "cell_type": "markdown",
   "id": "8147ccd5",
   "metadata": {},
   "source": [
    "### Fuel type"
   ]
  },
  {
   "cell_type": "code",
   "execution_count": 5,
   "id": "b87e7c82",
   "metadata": {},
   "outputs": [],
   "source": [
    "def is_gas(row):\n",
    "    regex1 = re.compile('.*Gas.*')\n",
    "    regex2 = re.compile('.*Flex.*')\n",
    "    if regex1.match(row.fuel_type) or \\\n",
    "    regex2.match(row.fuel_type) or \\\n",
    "    row.fuel_type == 'Hybrid ':\n",
    "        return 1\n",
    "    else:\n",
    "        return 0\n",
    "    \n",
    "def is_diesel(row):\n",
    "    regex1 = re.compile('Diesel.*')\n",
    "    regex2 = re.compile('.*Flex Fuel.*')\n",
    "    if regex1.match(row.fuel_type) or \\\n",
    "    regex2.match(row.fuel_type):\n",
    "        return 1\n",
    "    else:\n",
    "        return 0\n",
    "    \n",
    "def is_electric(row):\n",
    "    regex = re.compile('.*Electric.*')\n",
    "    if regex.match(row.fuel_type) or \\\n",
    "    row.fuel_type == 'Hybrid ':\n",
    "        return 1\n",
    "    else:\n",
    "        return 0"
   ]
  },
  {
   "cell_type": "code",
   "execution_count": 6,
   "id": "0de9c5a4",
   "metadata": {},
   "outputs": [],
   "source": [
    "df['is_gas'] = df.apply(lambda row : is_gas(row), axis=1)\n",
    "df['is_diesel'] = df.apply(lambda row : is_diesel(row), axis=1)\n",
    "df['is_electric'] = df.apply(lambda row : is_electric(row), axis=1)"
   ]
  },
  {
   "cell_type": "markdown",
   "id": "6ac0390b",
   "metadata": {},
   "source": [
    "### Year"
   ]
  },
  {
   "cell_type": "code",
   "execution_count": 7,
   "id": "ae2287da",
   "metadata": {},
   "outputs": [],
   "source": [
    "def get_year_make_model(row):\n",
    "    i = row['name']\n",
    "    w = i.split()\n",
    "    return w"
   ]
  },
  {
   "cell_type": "code",
   "execution_count": 8,
   "id": "557019db",
   "metadata": {},
   "outputs": [],
   "source": [
    "df['age'] = df.apply(lambda row : date.today().year - int(get_year_make_model(row)[0]), axis=1)\\\n",
    "    .astype('int')\n",
    "df['make_model'] = df.apply(lambda row : get_year_make_model(row)[1] + get_year_make_model(row)[2], axis=1)\n",
    "# df['model'] = df.apply(lambda row : get_year_make_model(row)[2], axis=1)"
   ]
  },
  {
   "cell_type": "markdown",
   "id": "db066188",
   "metadata": {},
   "source": [
    "### MPG"
   ]
  },
  {
   "cell_type": "code",
   "execution_count": 9,
   "id": "b5e6face",
   "metadata": {},
   "outputs": [],
   "source": [
    "# drop rows with blank mpg\n",
    "df = df[df['mpg'] != '–']\n",
    "df = df[df['mpg'] != 'None']"
   ]
  },
  {
   "cell_type": "code",
   "execution_count": 10,
   "id": "3ada9c26",
   "metadata": {},
   "outputs": [],
   "source": [
    "def get_low_mpg(row):\n",
    "    i = row.mpg.find('–')\n",
    "    if i != -1:\n",
    "        return row.mpg[0:i]\n",
    "    else:\n",
    "        return row.mpg\n",
    "\n",
    "def get_high_mpg(row):\n",
    "    i = row.mpg.find('–')\n",
    "    if i != -1:\n",
    "        return row.mpg[i+1:]\n",
    "    else:\n",
    "        return 0"
   ]
  },
  {
   "cell_type": "code",
   "execution_count": 11,
   "id": "f410f054",
   "metadata": {},
   "outputs": [],
   "source": [
    "df['mpg'] = df.apply(lambda row : int(get_low_mpg(row)) + int(get_high_mpg(row)), axis=1).astype('int')"
   ]
  },
  {
   "cell_type": "markdown",
   "id": "5fdaf44a",
   "metadata": {},
   "source": [
    "### Transmission"
   ]
  },
  {
   "cell_type": "code",
   "execution_count": 12,
   "id": "47e6f3c9",
   "metadata": {},
   "outputs": [],
   "source": [
    "def is_auto(row):\n",
    "    regex = re.compile('.*([A|a]uto|A/T|Dual Shift).*')\n",
    "    if regex.match(row.transmission):\n",
    "        return 1\n",
    "    else:\n",
    "        return 0\n",
    "\n",
    "def is_cvt(row):\n",
    "    regex = re.compile('.*(CVT|Variable).*')\n",
    "    if regex.match(row.transmission):\n",
    "        return 1\n",
    "    else:\n",
    "        return 0\n",
    "    \n",
    "def is_manual(row):\n",
    "    regex = re.compile('.*(Manual|M/T).*')\n",
    "    if regex.match(row.transmission):\n",
    "        return 1\n",
    "    else:\n",
    "        return 0\n",
    "    \n",
    "def get_speed(row):\n",
    "    tmp = row.transmission\n",
    "    tmp = re.sub('[^0-9]', '', tmp)\n",
    "    if tmp == '':\n",
    "        return 0\n",
    "    else:\n",
    "        return int(tmp)"
   ]
  },
  {
   "cell_type": "code",
   "execution_count": 13,
   "id": "aa1e97ca",
   "metadata": {},
   "outputs": [],
   "source": [
    "df['is_auto'] = df.apply(lambda row : is_auto(row), axis=1)\n",
    "df['is_cvt'] = df.apply(lambda row : is_cvt(row), axis=1)\n",
    "df['is_manual'] = df.apply(lambda row : is_manual(row), axis=1)\n",
    "df['speed'] = df.apply(lambda row : get_speed(row), axis=1)"
   ]
  },
  {
   "cell_type": "markdown",
   "id": "3353092f",
   "metadata": {},
   "source": [
    "### Engine"
   ]
  },
  {
   "cell_type": "code",
   "execution_count": 14,
   "id": "07d19440",
   "metadata": {},
   "outputs": [],
   "source": [
    "def get_L(row):\n",
    "    i = row.engine.find('L')\n",
    "    if i == -1:\n",
    "        return 0\n",
    "    else:\n",
    "        return float(row.engine[i-3:i])\n",
    "\n",
    "def get_V(row):\n",
    "    i = row.engine\n",
    "    a = re.compile('.*16V.*')\n",
    "    b = re.compile('.*24V.*')\n",
    "    c = re.compile('.*32V.*')\n",
    "    d = re.compile('.*48V.*')\n",
    "    e = re.compile('.*12V.*')\n",
    "    if a.match(i):\n",
    "        return 16\n",
    "    elif b.match(i):\n",
    "        return 24\n",
    "    elif c.match(i):\n",
    "        return 32\n",
    "    elif d.match(i):\n",
    "        return 48\n",
    "    elif e.match(i):\n",
    "        return 12\n",
    "    else:\n",
    "        return 0"
   ]
  },
  {
   "cell_type": "code",
   "execution_count": 15,
   "id": "b898f82a",
   "metadata": {},
   "outputs": [],
   "source": [
    "df['engine_L'] = df.apply(lambda row : get_L(row), axis=1).astype('float')\n",
    "df['engine_V'] = df.apply(lambda row : get_V(row), axis=1).astype('float')"
   ]
  },
  {
   "cell_type": "markdown",
   "id": "393ab6d0",
   "metadata": {},
   "source": [
    "### Drivetrain"
   ]
  },
  {
   "cell_type": "code",
   "execution_count": 16,
   "id": "bfcf3a9a",
   "metadata": {},
   "outputs": [],
   "source": [
    "# drop rows with blank drivetrain\n",
    "df.drivetrain = df.drivetrain.apply(lambda x : x[1:-1])\n",
    "df = df[df['drivetrain'] != '–']"
   ]
  },
  {
   "cell_type": "code",
   "execution_count": 17,
   "id": "938e8275",
   "metadata": {},
   "outputs": [],
   "source": [
    "def get_drivetrain(row):\n",
    "    i = row.drivetrain\n",
    "    four = re.compile('.*(Front|Rear|FWD).*')\n",
    "    two = re.compile('.*(All|Four|4WD|AWD).*')\n",
    "    if four.match(i):\n",
    "        return 4\n",
    "    elif two.match(i):\n",
    "        return 2\n",
    "    else:\n",
    "        return 0"
   ]
  },
  {
   "cell_type": "code",
   "execution_count": 18,
   "id": "e761b9b8",
   "metadata": {},
   "outputs": [],
   "source": [
    "df['drivetrain'] = df.apply(lambda row : get_drivetrain(row), axis=1)"
   ]
  },
  {
   "cell_type": "markdown",
   "id": "b4282238",
   "metadata": {},
   "source": [
    "## Zipcode"
   ]
  },
  {
   "cell_type": "code",
   "execution_count": 19,
   "id": "aabbcca9",
   "metadata": {},
   "outputs": [],
   "source": [
    "zipcode_to_crime_rate = pd.DataFrame(columns=['zipcode', 'crime_rate'])\n",
    "zipcode_to_crime_rate['zipcode'] = df.zipcode.unique()\n",
    "zipcode_to_crime_rate.crime_rate =\\\n",
    "    zipcode_to_crime_rate.crime_rate.apply(lambda x : 0)"
   ]
  },
  {
   "cell_type": "code",
   "execution_count": 20,
   "id": "822bf5ba",
   "metadata": {},
   "outputs": [],
   "source": [
    "# get zip code\n",
    "def get_major_city(row):\n",
    "    engine = SearchEngine()\n",
    "    zipcode = engine.by_zipcode(row.zipcode)\n",
    "    return zipcode.major_city\n",
    "\n",
    "def get_population(row):\n",
    "    engine = SearchEngine()\n",
    "    zipcode = engine.by_zipcode(row.zipcode)\n",
    "    return zipcode.population"
   ]
  },
  {
   "cell_type": "code",
   "execution_count": 21,
   "id": "7b36abbb",
   "metadata": {},
   "outputs": [],
   "source": [
    "df['major_city'] = df.apply(lambda row : get_major_city(row), axis=1)\n",
    "df['population'] = df.apply(lambda row : get_population(row), axis=1)"
   ]
  },
  {
   "cell_type": "markdown",
   "id": "02ebbd84",
   "metadata": {},
   "source": [
    "## Car make and model"
   ]
  },
  {
   "cell_type": "code",
   "execution_count": 22,
   "id": "f7428280",
   "metadata": {},
   "outputs": [],
   "source": [
    "df = pd.get_dummies(df, columns=['make_model'], \\\n",
    "                    prefix='mm', prefix_sep='_')\n",
    "df = pd.get_dummies(df, columns=['drivetrain'], \\\n",
    "                    prefix='dt', prefix_sep='_')\n",
    "df = pd.get_dummies(df, columns=['major_city'], \\\n",
    "                    prefix='is_in', prefix_sep='_')"
   ]
  },
  {
   "cell_type": "markdown",
   "id": "d10a3837",
   "metadata": {},
   "source": [
    "### Drop useless columns"
   ]
  },
  {
   "cell_type": "code",
   "execution_count": 23,
   "id": "b8d30c59",
   "metadata": {},
   "outputs": [],
   "source": [
    "df = df.drop(columns=\\\n",
    "             ['name', 'mpg', 'fuel_type', 'transmission', 'engine', 'personal_use'])\n",
    "df = df.dropna()"
   ]
  },
  {
   "cell_type": "code",
   "execution_count": 24,
   "id": "37699879",
   "metadata": {},
   "outputs": [],
   "source": [
    "train_df, test_df = train_test_split(df, test_size=0.2)\n",
    "train_df.to_csv('data/train_df.csv', encoding='utf-8')\n",
    "test_df.to_csv('data/test_df.csv', encoding='utf-8')"
   ]
  },
  {
   "cell_type": "markdown",
   "id": "948e4fab",
   "metadata": {},
   "source": [
    "## Building regression model"
   ]
  },
  {
   "cell_type": "markdown",
   "id": "2441a144",
   "metadata": {},
   "source": [
    "### Lasso Regression model"
   ]
  },
  {
   "cell_type": "code",
   "execution_count": 25,
   "id": "9507f952",
   "metadata": {},
   "outputs": [],
   "source": [
    "# train_df, test_df = train_test_split(df, test_size=0.2)\n",
    "X = train_df.drop(columns=['price'], axis=1)\n",
    "y = train_df.price"
   ]
  },
  {
   "cell_type": "code",
   "execution_count": 26,
   "id": "c787f0cb",
   "metadata": {},
   "outputs": [
    {
     "data": {
      "text/plain": [
       "0.9893090675882391"
      ]
     },
     "execution_count": 26,
     "metadata": {},
     "output_type": "execute_result"
    }
   ],
   "source": [
    "scaler = StandardScaler()\n",
    "X_scaled = scaler.fit_transform(X)\n",
    "poly = PolynomialFeatures(degree=2)\n",
    "\n",
    "X_scaled_poly = poly.fit_transform(X_scaled)\n",
    "\n",
    "alphas = 10**np.linspace(-4, 4, 50)\n",
    "\n",
    "lasso = LassoCV(alphas=alphas, cv=5, tol=0.03)\n",
    "lasso.fit(X_scaled_poly, y)\n",
    "lasso.score(X_scaled_poly, y)"
   ]
  },
  {
   "cell_type": "code",
   "execution_count": 27,
   "id": "ed8f0b9a",
   "metadata": {},
   "outputs": [
    {
     "data": {
      "text/plain": [
       "0.8037841122433163"
      ]
     },
     "execution_count": 27,
     "metadata": {},
     "output_type": "execute_result"
    }
   ],
   "source": [
    "X_test = test_df.drop(columns=['price'], axis=1)\n",
    "y_test = test_df.price\n",
    "\n",
    "X_test_scaled = scaler.transform(X_test)\n",
    "X_test_scaled_poly = poly.transform(X_test_scaled)\n",
    "\n",
    "lasso.score(X_test_scaled_poly, y_test)"
   ]
  },
  {
   "cell_type": "code",
   "execution_count": 28,
   "id": "f04df356",
   "metadata": {},
   "outputs": [],
   "source": [
    "# save the model\n",
    "with open('models/lasso_model_pkl', 'wb') as file:\n",
    "    pickle.dump(lasso, file)"
   ]
  },
  {
   "cell_type": "code",
   "execution_count": null,
   "id": "17d4e0a4",
   "metadata": {},
   "outputs": [],
   "source": []
  }
 ],
 "metadata": {
  "kernelspec": {
   "display_name": "Python 3 (regression)",
   "language": "python",
   "name": "regression"
  },
  "language_info": {
   "codemirror_mode": {
    "name": "ipython",
    "version": 3
   },
   "file_extension": ".py",
   "mimetype": "text/x-python",
   "name": "python",
   "nbconvert_exporter": "python",
   "pygments_lexer": "ipython3",
   "version": "3.8.13"
  }
 },
 "nbformat": 4,
 "nbformat_minor": 5
}
