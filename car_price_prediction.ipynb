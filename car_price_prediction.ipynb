{
 "cells": [
  {
   "cell_type": "markdown",
   "id": "72aefc09",
   "metadata": {},
   "source": [
    "# Car Price Prediction"
   ]
  },
  {
   "cell_type": "code",
   "execution_count": 117,
   "id": "6c03589a",
   "metadata": {},
   "outputs": [],
   "source": [
    "import statsmodels.api as sm\n",
    "import pandas as pd\n",
    "import matplotlib.pyplot as plt\n",
    "from matplotlib import colors\n",
    "from sklearn.linear_model import LinearRegression\n",
    "from sklearn.model_selection import train_test_split\n",
    "import seaborn as sns\n",
    "from bs4 import BeautifulSoup as bs\n",
    "import requests\n",
    "import re\n",
    "import time\n",
    "import numpy as np\n",
    "from sklearn.metrics import mean_squared_error, mean_absolute_error\n",
    "%matplotlib inline"
   ]
  },
  {
   "cell_type": "markdown",
   "id": "8d7dc152",
   "metadata": {},
   "source": [
    "## Getting scraped data from csv file"
   ]
  },
  {
   "cell_type": "code",
   "execution_count": 89,
   "id": "6aa0151d",
   "metadata": {},
   "outputs": [],
   "source": [
    "df = pd.read_csv('data/car_info.csv', index_col=0)"
   ]
  },
  {
   "cell_type": "code",
   "execution_count": 90,
   "id": "b656c236",
   "metadata": {},
   "outputs": [],
   "source": [
    "df = df.dropna()"
   ]
  },
  {
   "cell_type": "markdown",
   "id": "aac2a8cf",
   "metadata": {},
   "source": [
    "## Data cleaning"
   ]
  },
  {
   "cell_type": "markdown",
   "id": "8147ccd5",
   "metadata": {},
   "source": [
    "### Fuel type"
   ]
  },
  {
   "cell_type": "code",
   "execution_count": 91,
   "id": "b87e7c82",
   "metadata": {},
   "outputs": [],
   "source": [
    "def is_gas(row):\n",
    "    regex1 = re.compile('.*Gas.*')\n",
    "    regex2 = re.compile('.*Flex.*')\n",
    "    if regex1.match(row.fuel_type) or \\\n",
    "    regex2.match(row.fuel_type) or \\\n",
    "    row.fuel_type == 'Hybrid ':\n",
    "        return 1\n",
    "    else:\n",
    "        return 0\n",
    "    \n",
    "def is_diesel(row):\n",
    "    regex1 = re.compile('Diesel.*')\n",
    "    regex2 = re.compile('.*Flex Fuel.*')\n",
    "    if regex1.match(row.fuel_type) or \\\n",
    "    regex2.match(row.fuel_type):\n",
    "        return 1\n",
    "    else:\n",
    "        return 0\n",
    "    \n",
    "def is_electric(row):\n",
    "    regex = re.compile('.*Electric.*')\n",
    "    if regex.match(row.fuel_type) or \\\n",
    "    row.fuel_type == 'Hybrid ':\n",
    "        return 1\n",
    "    else:\n",
    "        return 0"
   ]
  },
  {
   "cell_type": "code",
   "execution_count": 92,
   "id": "0de9c5a4",
   "metadata": {},
   "outputs": [],
   "source": [
    "df['is_gas'] = df.apply(lambda row : is_gas(row), axis=1)\n",
    "df['is_diesel'] = df.apply(lambda row : is_diesel(row), axis=1)\n",
    "df['is_electric'] = df.apply(lambda row : is_electric(row), axis=1)"
   ]
  },
  {
   "cell_type": "markdown",
   "id": "6ac0390b",
   "metadata": {},
   "source": [
    "### Year"
   ]
  },
  {
   "cell_type": "code",
   "execution_count": 93,
   "id": "ae2287da",
   "metadata": {},
   "outputs": [],
   "source": [
    "def get_year_make_model(row):\n",
    "    i = row['name']\n",
    "    w = i.split()\n",
    "    return w"
   ]
  },
  {
   "cell_type": "code",
   "execution_count": 94,
   "id": "557019db",
   "metadata": {},
   "outputs": [],
   "source": [
    "df['year'] = df.apply(lambda row : get_year_make_model(row)[0], axis=1)\\\n",
    "    .astype('int')\n",
    "df['make'] = df.apply(lambda row : get_year_make_model(row)[1], axis=1)\n",
    "df['model'] = df.apply(lambda row : get_year_make_model(row)[2], axis=1)"
   ]
  },
  {
   "cell_type": "markdown",
   "id": "db066188",
   "metadata": {},
   "source": [
    "### MPG"
   ]
  },
  {
   "cell_type": "code",
   "execution_count": 95,
   "id": "b5e6face",
   "metadata": {},
   "outputs": [],
   "source": [
    "# drop rows with blank mpg\n",
    "df = df[df['mpg'] != '–']\n",
    "df = df[df['mpg'] != 'None']"
   ]
  },
  {
   "cell_type": "code",
   "execution_count": 96,
   "id": "3ada9c26",
   "metadata": {},
   "outputs": [],
   "source": [
    "def get_low_mpg(row):\n",
    "    i = row.mpg.find('–')\n",
    "    if i != -1:\n",
    "        return row.mpg[0:i]\n",
    "    else:\n",
    "        return row.mpg\n",
    "\n",
    "def get_high_mpg(row):\n",
    "    i = row.mpg.find('–')\n",
    "    if i != -1:\n",
    "        return row.mpg[i+1:]\n",
    "    else:\n",
    "        return 0"
   ]
  },
  {
   "cell_type": "code",
   "execution_count": 97,
   "id": "f410f054",
   "metadata": {},
   "outputs": [],
   "source": [
    "df['low_mpg'] = df.apply(lambda row : get_low_mpg(row), axis=1)\n",
    "df['high_mpg'] = df.apply(lambda row : get_high_mpg(row), axis=1)"
   ]
  },
  {
   "cell_type": "code",
   "execution_count": 98,
   "id": "05253e59",
   "metadata": {},
   "outputs": [],
   "source": [
    "df.dropna()\n",
    "df['low_mpg'] = df['low_mpg'].astype('int')\n",
    "df['high_mpg'] = df['high_mpg'].astype('int')"
   ]
  },
  {
   "cell_type": "markdown",
   "id": "5fdaf44a",
   "metadata": {},
   "source": [
    "### Transmission"
   ]
  },
  {
   "cell_type": "code",
   "execution_count": 99,
   "id": "47e6f3c9",
   "metadata": {},
   "outputs": [],
   "source": [
    "def is_auto(row):\n",
    "    regex = re.compile('.*([A|a]uto|A/T|Dual Shift).*')\n",
    "    if regex.match(row.transmission):\n",
    "        return 1\n",
    "    else:\n",
    "        return 0\n",
    "\n",
    "def is_cvt(row):\n",
    "    regex = re.compile('.*(CVT|Variable).*')\n",
    "    if regex.match(row.transmission):\n",
    "        return 1\n",
    "    else:\n",
    "        return 0\n",
    "    \n",
    "def is_manual(row):\n",
    "    regex = re.compile('.*(Manual|M/T).*')\n",
    "    if regex.match(row.transmission):\n",
    "        return 1\n",
    "    else:\n",
    "        return 0\n",
    "    \n",
    "def get_speed(row):\n",
    "    tmp = row.transmission\n",
    "    tmp = re.sub('[^0-9]', '', tmp)\n",
    "    if tmp == '':\n",
    "        return 0\n",
    "    else:\n",
    "        return int(tmp)"
   ]
  },
  {
   "cell_type": "code",
   "execution_count": 100,
   "id": "aa1e97ca",
   "metadata": {},
   "outputs": [],
   "source": [
    "df['is_auto'] = df.apply(lambda row : is_auto(row), axis=1)\n",
    "df['is_cvt'] = df.apply(lambda row : is_cvt(row), axis=1)\n",
    "df['is_manual'] = df.apply(lambda row : is_manual(row), axis=1)\n",
    "df['speed'] = df.apply(lambda row : get_speed(row), axis=1)"
   ]
  },
  {
   "cell_type": "markdown",
   "id": "3353092f",
   "metadata": {},
   "source": [
    "### Engine"
   ]
  },
  {
   "cell_type": "code",
   "execution_count": 101,
   "id": "07d19440",
   "metadata": {},
   "outputs": [],
   "source": [
    "def get_L(row):\n",
    "    i = row.engine.find('L')\n",
    "    if i == -1:\n",
    "        return 0\n",
    "    else:\n",
    "        return float(row.engine[i-3:i])\n",
    "\n",
    "def get_V(row):\n",
    "    i = row.engine\n",
    "    a = re.compile('.*16V.*')\n",
    "    b = re.compile('.*24V.*')\n",
    "    c = re.compile('.*32V.*')\n",
    "    d = re.compile('.*48V.*')\n",
    "    e = re.compile('.*12V.*')\n",
    "    if a.match(i):\n",
    "        return 16\n",
    "    elif b.match(i):\n",
    "        return 24\n",
    "    elif c.match(i):\n",
    "        return 32\n",
    "    elif d.match(i):\n",
    "        return 48\n",
    "    elif e.match(i):\n",
    "        return 12\n",
    "    else:\n",
    "        return 0"
   ]
  },
  {
   "cell_type": "code",
   "execution_count": 102,
   "id": "b898f82a",
   "metadata": {},
   "outputs": [],
   "source": [
    "df['engine_L'] = df.apply(lambda row : get_L(row), axis=1).astype('float')\n",
    "df['engine_V'] = df.apply(lambda row : get_V(row), axis=1).astype('float')"
   ]
  },
  {
   "cell_type": "markdown",
   "id": "393ab6d0",
   "metadata": {},
   "source": [
    "### Drive train"
   ]
  },
  {
   "cell_type": "code",
   "execution_count": 103,
   "id": "bfcf3a9a",
   "metadata": {},
   "outputs": [],
   "source": [
    "# drop rows with blank drivetrain\n",
    "df.drivetrain = df.drivetrain.apply(lambda x : x[1:-1])\n",
    "df = df[df['drivetrain'] != '–']"
   ]
  },
  {
   "cell_type": "code",
   "execution_count": 104,
   "id": "938e8275",
   "metadata": {},
   "outputs": [],
   "source": [
    "def get_drivetrain(row):\n",
    "    i = row.drivetrain\n",
    "    four = re.compile('.*(Front|Rear|FWD).*')\n",
    "    two = re.compile('.*(All|Four|4WD|AWD).*')\n",
    "    if four.match(i):\n",
    "        return 4\n",
    "    elif two.match(i):\n",
    "        return 2\n",
    "    else:\n",
    "        return 0"
   ]
  },
  {
   "cell_type": "code",
   "execution_count": 105,
   "id": "e761b9b8",
   "metadata": {},
   "outputs": [],
   "source": [
    "df['drivetrain'] = df.apply(lambda row : get_drivetrain(row), axis=1)"
   ]
  },
  {
   "cell_type": "markdown",
   "id": "d10a3837",
   "metadata": {},
   "source": [
    "### Drop useless columns"
   ]
  },
  {
   "cell_type": "code",
   "execution_count": 106,
   "id": "62d5926d",
   "metadata": {},
   "outputs": [],
   "source": [
    "df = df.drop(columns=\\\n",
    "             ['name', 'ex_color', 'in_color', \\\n",
    "              'mpg', 'fuel_type', 'transmission', 'engine'])"
   ]
  },
  {
   "cell_type": "code",
   "execution_count": 107,
   "id": "fa00e37f",
   "metadata": {},
   "outputs": [
    {
     "data": {
      "text/html": [
       "<div>\n",
       "<style scoped>\n",
       "    .dataframe tbody tr th:only-of-type {\n",
       "        vertical-align: middle;\n",
       "    }\n",
       "\n",
       "    .dataframe tbody tr th {\n",
       "        vertical-align: top;\n",
       "    }\n",
       "\n",
       "    .dataframe thead th {\n",
       "        text-align: right;\n",
       "    }\n",
       "</style>\n",
       "<table border=\"1\" class=\"dataframe\">\n",
       "  <thead>\n",
       "    <tr style=\"text-align: right;\">\n",
       "      <th></th>\n",
       "      <th>index</th>\n",
       "      <th>price</th>\n",
       "      <th>mileage</th>\n",
       "      <th>drivetrain</th>\n",
       "      <th>is_gas</th>\n",
       "      <th>is_diesel</th>\n",
       "      <th>is_electric</th>\n",
       "      <th>year</th>\n",
       "      <th>make</th>\n",
       "      <th>model</th>\n",
       "      <th>low_mpg</th>\n",
       "      <th>high_mpg</th>\n",
       "      <th>is_auto</th>\n",
       "      <th>is_cvt</th>\n",
       "      <th>is_manual</th>\n",
       "      <th>speed</th>\n",
       "      <th>engine_L</th>\n",
       "      <th>engine_V</th>\n",
       "    </tr>\n",
       "  </thead>\n",
       "  <tbody>\n",
       "    <tr>\n",
       "      <th>0</th>\n",
       "      <td>0</td>\n",
       "      <td>27995.0</td>\n",
       "      <td>29192</td>\n",
       "      <td>4</td>\n",
       "      <td>1</td>\n",
       "      <td>0</td>\n",
       "      <td>0</td>\n",
       "      <td>2019</td>\n",
       "      <td>Honda</td>\n",
       "      <td>Accord</td>\n",
       "      <td>29</td>\n",
       "      <td>35</td>\n",
       "      <td>1</td>\n",
       "      <td>1</td>\n",
       "      <td>0</td>\n",
       "      <td>0</td>\n",
       "      <td>1.5</td>\n",
       "      <td>16.0</td>\n",
       "    </tr>\n",
       "    <tr>\n",
       "      <th>1</th>\n",
       "      <td>1</td>\n",
       "      <td>52458.0</td>\n",
       "      <td>56059</td>\n",
       "      <td>2</td>\n",
       "      <td>0</td>\n",
       "      <td>0</td>\n",
       "      <td>1</td>\n",
       "      <td>2019</td>\n",
       "      <td>Tesla</td>\n",
       "      <td>Model</td>\n",
       "      <td>120</td>\n",
       "      <td>112</td>\n",
       "      <td>1</td>\n",
       "      <td>0</td>\n",
       "      <td>0</td>\n",
       "      <td>1</td>\n",
       "      <td>0.0</td>\n",
       "      <td>0.0</td>\n",
       "    </tr>\n",
       "    <tr>\n",
       "      <th>2</th>\n",
       "      <td>2</td>\n",
       "      <td>22115.0</td>\n",
       "      <td>15039</td>\n",
       "      <td>4</td>\n",
       "      <td>1</td>\n",
       "      <td>0</td>\n",
       "      <td>0</td>\n",
       "      <td>2020</td>\n",
       "      <td>Toyota</td>\n",
       "      <td>Corolla</td>\n",
       "      <td>30</td>\n",
       "      <td>38</td>\n",
       "      <td>1</td>\n",
       "      <td>1</td>\n",
       "      <td>0</td>\n",
       "      <td>0</td>\n",
       "      <td>1.8</td>\n",
       "      <td>16.0</td>\n",
       "    </tr>\n",
       "    <tr>\n",
       "      <th>3</th>\n",
       "      <td>3</td>\n",
       "      <td>19500.0</td>\n",
       "      <td>61754</td>\n",
       "      <td>2</td>\n",
       "      <td>1</td>\n",
       "      <td>0</td>\n",
       "      <td>0</td>\n",
       "      <td>2017</td>\n",
       "      <td>Volkswagen</td>\n",
       "      <td>Golf</td>\n",
       "      <td>22</td>\n",
       "      <td>30</td>\n",
       "      <td>1</td>\n",
       "      <td>0</td>\n",
       "      <td>0</td>\n",
       "      <td>6</td>\n",
       "      <td>1.8</td>\n",
       "      <td>16.0</td>\n",
       "    </tr>\n",
       "    <tr>\n",
       "      <th>4</th>\n",
       "      <td>4</td>\n",
       "      <td>34952.0</td>\n",
       "      <td>26577</td>\n",
       "      <td>2</td>\n",
       "      <td>1</td>\n",
       "      <td>0</td>\n",
       "      <td>0</td>\n",
       "      <td>2020</td>\n",
       "      <td>Ford</td>\n",
       "      <td>Edge</td>\n",
       "      <td>21</td>\n",
       "      <td>28</td>\n",
       "      <td>1</td>\n",
       "      <td>0</td>\n",
       "      <td>0</td>\n",
       "      <td>8</td>\n",
       "      <td>2.0</td>\n",
       "      <td>16.0</td>\n",
       "    </tr>\n",
       "  </tbody>\n",
       "</table>\n",
       "</div>"
      ],
      "text/plain": [
       "   index    price  mileage  drivetrain  is_gas  is_diesel  is_electric  year  \\\n",
       "0      0  27995.0    29192           4       1          0            0  2019   \n",
       "1      1  52458.0    56059           2       0          0            1  2019   \n",
       "2      2  22115.0    15039           4       1          0            0  2020   \n",
       "3      3  19500.0    61754           2       1          0            0  2017   \n",
       "4      4  34952.0    26577           2       1          0            0  2020   \n",
       "\n",
       "         make    model  low_mpg  high_mpg  is_auto  is_cvt  is_manual  speed  \\\n",
       "0       Honda   Accord       29        35        1       1          0      0   \n",
       "1       Tesla    Model      120       112        1       0          0      1   \n",
       "2      Toyota  Corolla       30        38        1       1          0      0   \n",
       "3  Volkswagen     Golf       22        30        1       0          0      6   \n",
       "4        Ford     Edge       21        28        1       0          0      8   \n",
       "\n",
       "   engine_L  engine_V  \n",
       "0       1.5      16.0  \n",
       "1       0.0       0.0  \n",
       "2       1.8      16.0  \n",
       "3       1.8      16.0  \n",
       "4       2.0      16.0  "
      ]
     },
     "execution_count": 107,
     "metadata": {},
     "output_type": "execute_result"
    }
   ],
   "source": [
    "df.head()"
   ]
  },
  {
   "cell_type": "markdown",
   "id": "948e4fab",
   "metadata": {},
   "source": [
    "## Building regression model"
   ]
  },
  {
   "cell_type": "markdown",
   "id": "240dde60",
   "metadata": {},
   "source": [
    "## Virtualization"
   ]
  },
  {
   "cell_type": "code",
   "execution_count": 108,
   "id": "b2b92f29",
   "metadata": {},
   "outputs": [],
   "source": [
    "# drop columns not used for now\n",
    "drop_column_names = ['make', 'model']\n",
    "df = df.drop(columns = drop_column_names, axis=1)"
   ]
  },
  {
   "cell_type": "code",
   "execution_count": 109,
   "id": "7eb533bd",
   "metadata": {
    "scrolled": false
   },
   "outputs": [],
   "source": [
    "# sns.pairplot(df)"
   ]
  },
  {
   "cell_type": "markdown",
   "id": "af080c41",
   "metadata": {},
   "source": [
    "### Divide dataset"
   ]
  },
  {
   "cell_type": "code",
   "execution_count": 110,
   "id": "72625716",
   "metadata": {},
   "outputs": [],
   "source": [
    "train_df, test_df = train_test_split(df, test_size=0.2)"
   ]
  },
  {
   "cell_type": "markdown",
   "id": "7f8985db",
   "metadata": {},
   "source": [
    "### Fit model"
   ]
  },
  {
   "cell_type": "code",
   "execution_count": 112,
   "id": "5ee0eca2",
   "metadata": {},
   "outputs": [
    {
     "data": {
      "text/plain": [
       "LinearRegression()"
      ]
     },
     "execution_count": 112,
     "metadata": {},
     "output_type": "execute_result"
    }
   ],
   "source": [
    "X = train_df.drop(columns='price', axis=1)\n",
    "y = train_df.price\n",
    "\n",
    "model = LinearRegression()\n",
    "model.fit(X, y)"
   ]
  },
  {
   "cell_type": "code",
   "execution_count": 113,
   "id": "2936398d",
   "metadata": {},
   "outputs": [
    {
     "data": {
      "text/plain": [
       "0.3266804786229679"
      ]
     },
     "execution_count": 113,
     "metadata": {},
     "output_type": "execute_result"
    }
   ],
   "source": [
    "model.score(X, y)"
   ]
  },
  {
   "cell_type": "code",
   "execution_count": 114,
   "id": "04bc4b3f",
   "metadata": {},
   "outputs": [
    {
     "data": {
      "text/plain": [
       "0.2250165975872621"
      ]
     },
     "execution_count": 114,
     "metadata": {},
     "output_type": "execute_result"
    }
   ],
   "source": [
    "# test\n",
    "X_test = test_df.drop(columns='price', axis=1)\n",
    "y_test = test_df.price\n",
    "model.score(X_test, y_test)"
   ]
  },
  {
   "cell_type": "code",
   "execution_count": 119,
   "id": "9be7f41d",
   "metadata": {},
   "outputs": [
    {
     "data": {
      "image/png": "[encoded data removed]",
      "text/plain": [
       "<Figure size 600x400 with 1 Axes>"
      ]
     },
     "metadata": {
      "needs_background": "light"
     },
     "output_type": "display_data"
    }
   ],
   "source": [
    "# model.predict(X_test)\n",
    "plt.figure(dpi=100)\n",
    "df_res = pd.DataFrame()\n",
    "df_res['price'] = y_test\n",
    "df_res['pred_price'] = model.predict(X_test)\n",
    "ax = sns.lineplot(data=df_res)"
   ]
  },
  {
   "cell_type": "code",
   "execution_count": null,
   "id": "11bc870d",
   "metadata": {},
   "outputs": [],
   "source": []
  }
 ],
 "metadata": {
  "kernelspec": {
   "display_name": "Python 3 (regression)",
   "language": "python",
   "name": "regression"
  },
  "language_info": {
   "codemirror_mode": {
    "name": "ipython",
    "version": 3
   },
   "file_extension": ".py",
   "mimetype": "text/x-python",
   "name": "python",
   "nbconvert_exporter": "python",
   "pygments_lexer": "ipython3",
   "version": "3.8.13"
  }
 },
 "nbformat": 4,
 "nbformat_minor": 5
}
